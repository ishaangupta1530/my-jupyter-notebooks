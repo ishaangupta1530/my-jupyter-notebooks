{
 "cells": [
  {
   "attachments": {},
   "cell_type": "markdown",
   "id": "b4595652-4951-4c1d-97c6-97bdee45eaf2",
   "metadata": {},
   "source": [
    "Data Science Tools and Ecosystem"
   ]
  },
  {
   "cell_type": "markdown",
   "id": "db69ba6c-626f-4b2a-8ac4-71bb5929157d",
   "metadata": {},
   "source": [
    "In this notebook, Data Science Tools and Ecosystem are summarized.\n"
   ]
  },
  {
   "cell_type": "markdown",
   "id": "89a4aa8a-1055-4da4-8d56-1b53e8d96476",
   "metadata": {},
   "source": [
    "Some of the popular languages that Data Scientists use are:\n",
    "\n",
    "1. Python  \n",
    "2. R  \n",
    "3. SQL  \n",
    "4. Julia  \n",
    "5. Scala\n"
   ]
  },
  {
   "cell_type": "markdown",
   "id": "74868d6d-23f6-49d1-8766-60ac09616f7b",
   "metadata": {},
   "source": [
    "Some of the commonly used libraries used by Data Scientists include:\n",
    "\n",
    "1. NumPy  \n",
    "2. pandas  \n",
    "3. Matplotlib  \n",
    "4. scikit-learn  \n",
    "5. TensorFlow\n"
   ]
  },
  {
   "cell_type": "markdown",
   "id": "12725292-fcf1-4f43-a6cc-298f9787473e",
   "metadata": {},
   "source": [
    "| Data Science Tools   |\n",
    "|----------------------|\n",
    "| Jupyter Notebook     |\n",
    "| RStudio              |\n",
    "| VS Code              |\n"
   ]
  },
  {
   "cell_type": "markdown",
   "id": "41e1884a-7f1a-49a4-b5a3-d240d206e499",
   "metadata": {},
   "source": [
    "### Below are a few examples of evaluating arithmetic expressions in Python.\n"
   ]
  },
  {
   "cell_type": "code",
   "execution_count": 1,
   "id": "06afa5b6-72b2-4324-bcb0-403ad7d2e7b7",
   "metadata": {},
   "outputs": [
    {
     "data": {
      "text/plain": [
       "17"
      ]
     },
     "execution_count": 1,
     "metadata": {},
     "output_type": "execute_result"
    }
   ],
   "source": [
    "# This is a simple arithmetic expression to multiply then add integers.\n",
    "(3 * 4) + 5\n"
   ]
  },
  {
   "cell_type": "code",
   "execution_count": 2,
   "id": "cd4d376c-b5a9-4260-8b11-b0889b91df9f",
   "metadata": {},
   "outputs": [
    {
     "data": {
      "text/plain": [
       "3.3333333333333335"
      ]
     },
     "execution_count": 2,
     "metadata": {},
     "output_type": "execute_result"
    }
   ],
   "source": [
    "# This will convert 200 minutes to hours by dividing by 60.\n",
    "200 / 60\n"
   ]
  },
  {
   "cell_type": "markdown",
   "id": "8b675842-8d12-4ad2-8682-8902cd8e6af3",
   "metadata": {},
   "source": [
    "**Objectives:**\n",
    "\n",
    "- List popular languages for Data Science  \n",
    "- List commonly used libraries for Data Science  \n",
    "- Demonstrate arithmetic expressions using Python  \n",
    "- Create Markdown and code cells in a Jupyter Notebook  \n",
    "- Upload notebooks to GitHub for sharing\n"
   ]
  },
  {
   "cell_type": "markdown",
   "id": "492825fb-ef15-4aab-81fe-b894d6d9b06d",
   "metadata": {},
   "source": [
    "## Author\n",
    "\n",
    "Ishaan Gupta\n"
   ]
  },
  {
   "cell_type": "code",
   "execution_count": null,
   "id": "ebfc6a95-672a-4bee-bf5f-eb75df44a81a",
   "metadata": {},
   "outputs": [],
   "source": []
  }
 ],
 "metadata": {
  "kernelspec": {
   "display_name": "Python 3 (ipykernel)",
   "language": "python",
   "name": "python3"
  },
  "language_info": {
   "codemirror_mode": {
    "name": "ipython",
    "version": 3
   },
   "file_extension": ".py",
   "mimetype": "text/x-python",
   "name": "python",
   "nbconvert_exporter": "python",
   "pygments_lexer": "ipython3",
   "version": "3.12.8"
  }
 },
 "nbformat": 4,
 "nbformat_minor": 5
}
